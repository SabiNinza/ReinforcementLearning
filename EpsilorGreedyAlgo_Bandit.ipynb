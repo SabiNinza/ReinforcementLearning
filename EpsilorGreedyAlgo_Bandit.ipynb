{
 "cells": [
  {
   "cell_type": "code",
   "execution_count": 33,
   "metadata": {},
   "outputs": [],
   "source": [
    "import numpy as np\n",
    "import matplotlib.pyplot as plt\n",
    "import random"
   ]
  },
  {
   "cell_type": "code",
   "execution_count": 53,
   "metadata": {},
   "outputs": [],
   "source": [
    "NUM_TRIALS = 10000\n",
    "EPS = 0.1     #e is use for selection of random bandit to make our model more precise\n",
    "BANDIT_PROB = [0.2,0.5,0.9] #win rate of 3 bandit of casino"
   ]
  },
  {
   "cell_type": "code",
   "execution_count": 35,
   "metadata": {},
   "outputs": [
    {
     "data": {
      "text/plain": [
       "array([    1,     2,     3, ...,  9998,  9999, 10000])"
      ]
     },
     "execution_count": 35,
     "metadata": {},
     "output_type": "execute_result"
    }
   ],
   "source": [
    "np.random.random()\n",
    "np.arange(NUM_TRIALS)+1"
   ]
  },
  {
   "cell_type": "code",
   "execution_count": 36,
   "metadata": {},
   "outputs": [],
   "source": [
    "class Bandit:\n",
    "    def __init__(self,p):\n",
    "        self.p = p\n",
    "        self.p_estimate = 0 #win rate after every trial\n",
    "        self.N = 0 #no of same collected so far\n",
    "        \n",
    "    def pull(self): #draw 1 with probability p\n",
    "        return np.random.random() < self.p\n",
    "    \n",
    "    def update(self,x):\n",
    "        self.N += 1\n",
    "        self.p_estimate = self.p_estimate+(x-self.p_estimate)/self.N"
   ]
  },
  {
   "cell_type": "markdown",
   "metadata": {},
   "source": [
    "## Epsilon Greedy Algorithm"
   ]
  },
  {
   "cell_type": "code",
   "execution_count": 37,
   "metadata": {},
   "outputs": [],
   "source": [
    "def experiment():\n",
    "    bandit = [Bandit(p) for p in BANDIT_PROB]\n",
    "    reward = np.zeros(NUM_TRIALS)\n",
    "    num_times_explored = 0\n",
    "    num_times_exploited = 0\n",
    "    num_optimal = 0\n",
    "    optimal_j = np.argmax([b.p for b in bandit])\n",
    "    print(\"optimal j::\",optimal_j)\n",
    "    \n",
    "    for  i in range(NUM_TRIALS):\n",
    "        #use epsilon to select next bandit\n",
    "        if np.random.random() < EPS:\n",
    "            num_times_explored+=1\n",
    "            j = np.random.randint(len(bandit))\n",
    "        else:\n",
    "            num_times_exploited += 1\n",
    "            j = np.argmax([b.p_estimate for b in bandit])\n",
    "        if j == optimal_j:\n",
    "            num_optimal+=1\n",
    "        \n",
    "        x = bandit[j].pull() #pull arm to know he win or not\n",
    "        \n",
    "        reward[i] = x    #collect reward\n",
    "        \n",
    "        bandit[j].update(x)   #update the distribution whose arm just pulled\n",
    "        \n",
    "    for b in bandit:\n",
    "        print('mean_estimate:: ',b.p_estimate)\n",
    "    #print reward\n",
    "    print('total reward earned: ',reward.sum())\n",
    "    print('win rate: ',reward.sum()/NUM_TRIALS)\n",
    "    print('exploited: ',num_times_exploited)\n",
    "    print('explored: ',num_times_explored)\n",
    "    print('num_times_selected OptimalBandit: ',num_optimal)\n",
    "    \n",
    "    #plot the result\n",
    "    cum_reward = np.cumsum(reward)\n",
    "    win_rate = cum_reward/(np.arange(NUM_TRIALS)+1)\n",
    "    plt.plot(win_rate)\n",
    "    plt.plot(np.ones(NUM_TRIALS)*np.max(BANDIT_PROB))\n",
    "    plt.show()"
   ]
  },
  {
   "cell_type": "code",
   "execution_count": 38,
   "metadata": {},
   "outputs": [
    {
     "name": "stdout",
     "output_type": "stream",
     "text": [
      "optimal j:: 2\n",
      "mean_estimate::  0.19602272727272715\n",
      "mean_estimate::  0.4735294117647057\n",
      "mean_estimate::  0.8990116029222173\n",
      "total reward earned:  8598.0\n",
      "win rate:  0.8598\n",
      "exploited:  8955\n",
      "explored:  1045\n",
      "num_times_selected OptimalBandit:  9308\n"
     ]
    },
    {
     "data": {
      "image/png": "[encoded data removed]",
      "text/plain": [
       "<Figure size 432x288 with 1 Axes>"
      ]
     },
     "metadata": {
      "needs_background": "light"
     },
     "output_type": "display_data"
    }
   ],
   "source": [
    "experiment()"
   ]
  },
  {
   "cell_type": "markdown",
   "metadata": {},
   "source": [
    "## EGA Epsilon Decay"
   ]
  },
  {
   "cell_type": "markdown",
   "metadata": {},
   "source": [
    "<ol><li>e(t) = k/t</li>\n",
    "<li>e(t) = e0*a^t</li>\n",
    "<li>e(t) = a/log(b*t+c)</li>\n",
    "<li>e(t) = max(e0-k*t,emin)</li>\n",
    "   </ol>\n",
    "   \n",
    "<p>Here we need decay bcz in starting we need to explore and after sometime we need more exploitation in simple language we need first to learn after we need to exploit the learning to achieve the target</p>"
   ]
  },
  {
   "cell_type": "code",
   "execution_count": 76,
   "metadata": {},
   "outputs": [],
   "source": [
    "EPS = 0.5"
   ]
  },
  {
   "cell_type": "code",
   "execution_count": 77,
   "metadata": {},
   "outputs": [],
   "source": [
    "def experimentdecay():\n",
    "    bandit = [Bandit(p) for p in BANDIT_PROB]\n",
    "    reward = np.zeros(NUM_TRIALS)\n",
    "    num_times_explored = 0\n",
    "    num_times_exploited = 0\n",
    "    num_optimal = 0\n",
    "    optimal_j = np.argmax([b.p for b in bandit])\n",
    "    print(\"optimal j::\",optimal_j)\n",
    "    \n",
    "    for  i in range(NUM_TRIALS):\n",
    "        global EPS\n",
    "        #use epsilon to select next bandit\n",
    "        if np.random.random() < EPS:\n",
    "            num_times_explored+=1\n",
    "            j = np.random.randint(len(bandit))\n",
    "        else:\n",
    "            num_times_exploited += 1\n",
    "            j = np.argmax([b.p_estimate for b in bandit])\n",
    "        if j == optimal_j:\n",
    "            num_optimal+=1\n",
    "        \n",
    "        x = bandit[j].pull() #pull arm to know he win or not\n",
    "        \n",
    "        reward[i] = x    #collect reward\n",
    "        \n",
    "        bandit[j].update(x) #update the distribution whose arm just pulled\n",
    "        if EPS > 0 and i > 0: EPS = EPS/i\n",
    "        \n",
    "    for b in bandit:\n",
    "        print('mean_estimate:: ',b.p_estimate)\n",
    "    #print reward\n",
    "    print('total reward earned: ',reward.sum())\n",
    "    print('win rate: ',reward.sum()/NUM_TRIALS)\n",
    "    print('exploited: ',num_times_exploited)\n",
    "    print('explored: ',num_times_explored)\n",
    "    print('num_times_selected OptimalBandit: ',num_optimal)\n",
    "    \n",
    "    #plot the result\n",
    "    cum_reward = np.cumsum(reward)\n",
    "    win_rate = cum_reward/(np.arange(NUM_TRIALS)+1)\n",
    "    plt.plot(win_rate)\n",
    "    plt.plot(np.ones(NUM_TRIALS)*np.max(BANDIT_PROB))\n",
    "    plt.show()"
   ]
  },
  {
   "cell_type": "code",
   "execution_count": 87,
   "metadata": {},
   "outputs": [
    {
     "data": {
      "text/plain": [
       "0.631200840906899"
      ]
     },
     "execution_count": 87,
     "metadata": {},
     "output_type": "execute_result"
    }
   ],
   "source": [
    "epsilon = np.random.uniform(low = 0,high = 1)\n",
    "epsilon"
   ]
  },
  {
   "cell_type": "code",
   "execution_count": 90,
   "metadata": {},
   "outputs": [
    {
     "name": "stdout",
     "output_type": "stream",
     "text": [
      "************************************\n",
      "\n",
      "Epsilon ::  0.2035765152706469\n",
      "optimal j:: 2\n",
      "mean_estimate::  0.19389999999999957\n",
      "mean_estimate::  0\n",
      "mean_estimate::  0\n",
      "total reward earned:  1939.0\n",
      "win rate:  0.1939\n",
      "exploited:  9999\n",
      "explored:  1\n",
      "num_times_selected OptimalBandit:  0\n"
     ]
    },
    {
     "data": {
      "image/png": "[encoded data removed]",
      "text/plain": [
       "<Figure size 432x288 with 1 Axes>"
      ]
     },
     "metadata": {
      "needs_background": "light"
     },
     "output_type": "display_data"
    },
    {
     "name": "stdout",
     "output_type": "stream",
     "text": [
      "\n",
      "************************************\n",
      "************************************\n",
      "\n",
      "Epsilon ::  0.48031700169177316\n",
      "optimal j:: 2\n",
      "mean_estimate::  0.19710000000000016\n",
      "mean_estimate::  0\n",
      "mean_estimate::  0\n",
      "total reward earned:  1971.0\n",
      "win rate:  0.1971\n",
      "exploited:  9999\n",
      "explored:  1\n",
      "num_times_selected OptimalBandit:  0\n"
     ]
    },
    {
     "data": {
      "image/png": "[encoded data removed]",
      "text/plain": [
       "<Figure size 432x288 with 1 Axes>"
      ]
     },
     "metadata": {
      "needs_background": "light"
     },
     "output_type": "display_data"
    },
    {
     "name": "stdout",
     "output_type": "stream",
     "text": [
      "\n",
      "************************************\n",
      "************************************\n",
      "\n",
      "Epsilon ::  0.9953422910796088\n",
      "optimal j:: 2\n",
      "mean_estimate::  0.0\n",
      "mean_estimate::  0\n",
      "mean_estimate::  0.895968790637188\n",
      "total reward earned:  8957.0\n",
      "win rate:  0.8957\n",
      "exploited:  9996\n",
      "explored:  4\n",
      "num_times_selected OptimalBandit:  9997\n"
     ]
    },
    {
     "data": {
      "image/png": "[encoded data removed]",
      "text/plain": [
       "<Figure size 432x288 with 1 Axes>"
      ]
     },
     "metadata": {
      "needs_background": "light"
     },
     "output_type": "display_data"
    },
    {
     "name": "stdout",
     "output_type": "stream",
     "text": [
      "\n",
      "************************************\n",
      "************************************\n",
      "\n",
      "Epsilon ::  0.49573765208078213\n",
      "optimal j:: 2\n",
      "mean_estimate::  0.19840000000000055\n",
      "mean_estimate::  0\n",
      "mean_estimate::  0\n",
      "total reward earned:  1984.0\n",
      "win rate:  0.1984\n",
      "exploited:  9999\n",
      "explored:  1\n",
      "num_times_selected OptimalBandit:  0\n"
     ]
    },
    {
     "data": {
      "image/png": "[encoded data removed]",
      "text/plain": [
       "<Figure size 432x288 with 1 Axes>"
      ]
     },
     "metadata": {
      "needs_background": "light"
     },
     "output_type": "display_data"
    },
    {
     "name": "stdout",
     "output_type": "stream",
     "text": [
      "\n",
      "************************************\n",
      "************************************\n",
      "\n",
      "Epsilon ::  0.7367128578198204\n",
      "optimal j:: 2\n",
      "mean_estimate::  0.0\n",
      "mean_estimate::  0\n",
      "mean_estimate::  0.8988696608982697\n",
      "total reward earned:  8986.0\n",
      "win rate:  0.8986\n",
      "exploited:  9997\n",
      "explored:  3\n",
      "num_times_selected OptimalBandit:  9997\n"
     ]
    },
    {
     "data": {
      "image/png": "[encoded data removed]",
      "text/plain": [
       "<Figure size 432x288 with 1 Axes>"
      ]
     },
     "metadata": {
      "needs_background": "light"
     },
     "output_type": "display_data"
    },
    {
     "name": "stdout",
     "output_type": "stream",
     "text": [
      "\n",
      "************************************\n",
      "************************************\n",
      "\n",
      "Epsilon ::  0.3491436740646353\n",
      "optimal j:: 2\n",
      "mean_estimate::  0.2029\n",
      "mean_estimate::  0\n",
      "mean_estimate::  0\n",
      "total reward earned:  2029.0\n",
      "win rate:  0.2029\n",
      "exploited:  10000\n",
      "explored:  0\n",
      "num_times_selected OptimalBandit:  0\n"
     ]
    },
    {
     "data": {
      "image/png": "[encoded data removed]",
      "text/plain": [
       "<Figure size 432x288 with 1 Axes>"
      ]
     },
     "metadata": {
      "needs_background": "light"
     },
     "output_type": "display_data"
    },
    {
     "name": "stdout",
     "output_type": "stream",
     "text": [
      "\n",
      "************************************\n",
      "************************************\n",
      "\n",
      "Epsilon ::  0.9280949623857714\n",
      "optimal j:: 2\n",
      "mean_estimate::  0.20719999999999986\n",
      "mean_estimate::  0\n",
      "mean_estimate::  0\n",
      "total reward earned:  2072.0\n",
      "win rate:  0.2072\n",
      "exploited:  9996\n",
      "explored:  4\n",
      "num_times_selected OptimalBandit:  0\n"
     ]
    },
    {
     "data": {
      "image/png": "[encoded data removed]",
      "text/plain": [
       "<Figure size 432x288 with 1 Axes>"
      ]
     },
     "metadata": {
      "needs_background": "light"
     },
     "output_type": "display_data"
    },
    {
     "name": "stdout",
     "output_type": "stream",
     "text": [
      "\n",
      "************************************\n",
      "************************************\n",
      "\n",
      "Epsilon ::  0.7138183632306171\n",
      "optimal j:: 2\n",
      "mean_estimate::  0\n",
      "mean_estimate::  0\n",
      "mean_estimate::  0.9008999999999986\n",
      "total reward earned:  9009.0\n",
      "win rate:  0.9009\n",
      "exploited:  9997\n",
      "explored:  3\n",
      "num_times_selected OptimalBandit:  10000\n"
     ]
    },
    {
     "data": {
      "image/png": "[encoded data removed]",
      "text/plain": [
       "<Figure size 432x288 with 1 Axes>"
      ]
     },
     "metadata": {
      "needs_background": "light"
     },
     "output_type": "display_data"
    },
    {
     "name": "stdout",
     "output_type": "stream",
     "text": [
      "\n",
      "************************************\n",
      "************************************\n",
      "\n",
      "Epsilon ::  0.8032600933894624\n",
      "optimal j:: 2\n",
      "mean_estimate::  0\n",
      "mean_estimate::  0\n",
      "mean_estimate::  0.9008999999999973\n",
      "total reward earned:  9009.0\n",
      "win rate:  0.9009\n",
      "exploited:  9998\n",
      "explored:  2\n",
      "num_times_selected OptimalBandit:  10000\n"
     ]
    },
    {
     "data": {
      "image/png": "[encoded data removed]",
      "text/plain": [
       "<Figure size 432x288 with 1 Axes>"
      ]
     },
     "metadata": {
      "needs_background": "light"
     },
     "output_type": "display_data"
    },
    {
     "name": "stdout",
     "output_type": "stream",
     "text": [
      "\n",
      "************************************\n",
      "************************************\n",
      "\n",
      "Epsilon ::  0.19184856478935397\n",
      "optimal j:: 2\n",
      "mean_estimate::  0.20752075207520787\n",
      "mean_estimate::  0.0\n",
      "mean_estimate::  0\n",
      "total reward earned:  2075.0\n",
      "win rate:  0.2075\n",
      "exploited:  9999\n",
      "explored:  1\n",
      "num_times_selected OptimalBandit:  0\n"
     ]
    },
    {
     "data": {
      "image/png": "[encoded data removed]",
      "text/plain": [
       "<Figure size 432x288 with 1 Axes>"
      ]
     },
     "metadata": {
      "needs_background": "light"
     },
     "output_type": "display_data"
    },
    {
     "name": "stdout",
     "output_type": "stream",
     "text": [
      "\n",
      "************************************\n"
     ]
    }
   ],
   "source": [
    "for e in range(10):\n",
    "    print(\"************************************\")\n",
    "    print()\n",
    "    EPS = np.random.uniform(low = 0,high = 1)\n",
    "    print('Epsilon :: ',EPS)\n",
    "    experimentdecay()\n",
    "    print()\n",
    "    print(\"************************************\")\n"
   ]
  },
  {
   "cell_type": "code",
   "execution_count": 65,
   "metadata": {},
   "outputs": [
    {
     "data": {
      "text/plain": [
       "0.1"
      ]
     },
     "execution_count": 65,
     "metadata": {},
     "output_type": "execute_result"
    }
   ],
   "source": [
    "EPS"
   ]
  },
  {
   "cell_type": "code",
   "execution_count": null,
   "metadata": {},
   "outputs": [],
   "source": []
  }
 ],
 "metadata": {
  "kernelspec": {
   "display_name": "Python 3.6.9 64-bit",
   "language": "python",
   "name": "python36964bit9939ac890d564112a7a5486a87db52b8"
  },
  "language_info": {
   "codemirror_mode": {
    "name": "ipython",
    "version": 3
   },
   "file_extension": ".py",
   "mimetype": "text/x-python",
   "name": "python",
   "nbconvert_exporter": "python",
   "pygments_lexer": "ipython3",
   "version": "3.6.9"
  }
 },
 "nbformat": 4,
 "nbformat_minor": 2
}
