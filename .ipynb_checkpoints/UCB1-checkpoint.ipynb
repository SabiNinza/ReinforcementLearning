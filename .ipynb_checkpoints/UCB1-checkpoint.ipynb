{
 "cells": [
  {
   "cell_type": "code",
   "execution_count": 1,
   "metadata": {},
   "outputs": [],
   "source": [
    "import numpy as np\n",
    "import matplotlib.pyplot as plt\n",
    "import random"
   ]
  },
  {
   "cell_type": "code",
   "execution_count": 2,
   "metadata": {},
   "outputs": [],
   "source": [
    "NUM_TRIALS = 10000\n",
    "EPS = 0.1     #e is use for selection of random bandit to make our model more precise\n",
    "BANDIT_PROB = [0.2,0.5,0.75] #win rate of 3 bandit of casino"
   ]
  },
  {
   "cell_type": "code",
   "execution_count": 3,
   "metadata": {},
   "outputs": [],
   "source": [
    "class Bandit:\n",
    "    def __init__(self,p):\n",
    "        self.p = p\n",
    "        self.p_estimate = 5 #Optimal algo we choose initial val max eg inf and after we choose max estimate to update our bandit\n",
    "        self.N = 1 #no of same collected so far\n",
    "        \n",
    "    def pull(self): #draw 1 with probability p\n",
    "        return np.random.random() < self.p\n",
    "    \n",
    "    def update(self,x):\n",
    "        self.N += 1\n",
    "        self.p_estimate = self.p_estimate+(x-self.p_estimate)/self.N\n",
    "#         self.p_estimate = ((self.N-1)*self.p_estimate+x)/self.N"
   ]
  },
  {
   "cell_type": "code",
   "execution_count": 8,
   "metadata": {},
   "outputs": [],
   "source": [
    "def experiment():\n",
    "    bandit = [Bandit(p) for p in BANDIT_PROB]\n",
    "    reward = np.zeros(NUM_TRIALS)\n",
    "    optimal_j = np.argmax([b.p for b in bandit])\n",
    "    print(\"optimal j::\",optimal_j)\n",
    "    total_plays = 0\n",
    "    #initialization\n",
    "    for i in range(len(bandit)):\n",
    "        x = bandit[i].pull()\n",
    "        bandit[i].update(x)\n",
    "        total_plays+=1\n",
    "        reward[i] = x\n",
    "    #now apply equation\n",
    "    for  i in range(NUM_TRIALS):\n",
    "        j = np.argmax([(b.p_estimate+np.sqrt((2*np.log(total_plays))/b.N)) for b in bandit])\n",
    "        x = bandit[j].pull() #pull arm of bandit with the largest sample  \n",
    "        reward[i] = x    #collect reward  \n",
    "        total_plays+=1\n",
    "        bandit[j].update(x)   #update the distribution whose arm just pulled\n",
    "        \n",
    "    for b in bandit:\n",
    "        print('mean_estimate:: ',b.p_estimate)\n",
    "    #print reward\n",
    "    print('total reward earned: ',reward.sum())\n",
    "    print('win rate: ',reward.sum()/NUM_TRIALS)\n",
    "    print('no of times every bandit arm pulled',[b.N for b in bandit])\n",
    "    #plot the result\n",
    "    cum_reward = np.cumsum(reward)\n",
    "    win_rate = cum_reward/(np.arange(NUM_TRIALS)+1)\n",
    "    plt.ylim([0,1])\n",
    "    plt.plot(win_rate)\n",
    "    plt.plot(np.ones(NUM_TRIALS)*np.max(BANDIT_PROB))\n",
    "    plt.show()"
   ]
  },
  {
   "cell_type": "code",
   "execution_count": 9,
   "metadata": {},
   "outputs": [
    {
     "name": "stdout",
     "output_type": "stream",
     "text": [
      "optimal j:: 2\n",
      "mean_estimate::  0.26153846153846155\n",
      "mean_estimate::  0.5188284518828451\n",
      "mean_estimate::  0.7530406101834709\n",
      "total reward earned:  7429.0\n",
      "win rate:  0.7429\n",
      "no of times every bandit arm pulled [65, 239, 9702]\n"
     ]
    },
    {
     "data": {
      "image/png": "[encoded data removed]",
      "text/plain": [
       "<Figure size 432x288 with 1 Axes>"
      ]
     },
     "metadata": {
      "needs_background": "light"
     },
     "output_type": "display_data"
    }
   ],
   "source": [
    "experiment()"
   ]
  },
  {
   "cell_type": "code",
   "execution_count": null,
   "metadata": {},
   "outputs": [],
   "source": []
  }
 ],
 "metadata": {
  "kernelspec": {
   "display_name": "Python 3",
   "language": "python",
   "name": "python3"
  },
  "language_info": {
   "codemirror_mode": {
    "name": "ipython",
    "version": 3
   },
   "file_extension": ".py",
   "mimetype": "text/x-python",
   "name": "python",
   "nbconvert_exporter": "python",
   "pygments_lexer": "ipython3",
   "version": "3.6.9"
  }
 },
 "nbformat": 4,
 "nbformat_minor": 2
}
