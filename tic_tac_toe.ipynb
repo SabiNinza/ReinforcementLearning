{
 "cells": [
  {
   "cell_type": "markdown",
   "metadata": {},
   "source": [
    "# TIC TAE TOE"
   ]
  },
  {
   "cell_type": "code",
   "execution_count": 5,
   "metadata": {},
   "outputs": [],
   "source": [
    "# !pip3 install matplot"
   ]
  },
  {
   "cell_type": "code",
   "execution_count": 6,
   "metadata": {},
   "outputs": [],
   "source": [
    "import numpy as np\n",
    "import matplotlib.pyplot as plt"
   ]
  },
  {
   "cell_type": "code",
   "execution_count": 7,
   "metadata": {},
   "outputs": [],
   "source": [
    "LENGTH = 3"
   ]
  },
  {
   "cell_type": "markdown",
   "metadata": {},
   "source": [
    "## AGENT"
   ]
  },
  {
   "cell_type": "code",
   "execution_count": null,
   "metadata": {},
   "outputs": [],
   "source": [
    "class Agent:\n",
    "    \n",
    "    def __init__(self,eps=0.1,alpha=0.5,verbose=False):\n",
    "        self.eps = eps   #epsilon for greedy algo\n",
    "        self.alpha = alpha #learning rate for update\n",
    "        self.verbose = verbose #for extra information\n",
    "        self.state_history = list() #store the history after every action\n",
    "        \n",
    "    def set_symbol(self,s):   #function to set the symbol like 'o','x'\n",
    "        self.sym = s\n",
    "    \n",
    "    def set_value(self,v):    #store the reward of every state \n",
    "        self.V = v\n",
    "    \n",
    "    def reset_history(self):\n",
    "        self.state_history =  list()\n",
    "    \n",
    "    def take_action(self,env): # apply epsilon greedy algorithm\n",
    "   \n",
    "        r = np.random.rand()\n",
    "        best_state = None\n",
    "        \n",
    "        if r < self.eps:\n",
    "            \n",
    "            if self.verbose:\n",
    "                print('Taking a random action !')\n",
    "            \n",
    "            possible_moves = list()\n",
    "            for i in range(LENGTH):\n",
    "                for j in range(LENGTH):\n",
    "                    if env.is_empty(i,j):\n",
    "                        possible_moves.append((i,j))\n",
    "            idx = np.random.choice(len(possible_moves))\n",
    "            next_move =  possible_moves[idx]\n",
    "            \n",
    "        else:\n",
    "            \n",
    "            pos2val = dict()\n",
    "            next_move = None\n",
    "            best_value = -1\n",
    "            for i in range(LENGTH):\n",
    "                for j in range(LENGTH):\n",
    "                    if env.is_empty(i,j):\n",
    "                        env.board[i,j] = self.sym\n",
    "                        state = env.get_state()\n",
    "                        env.board[i,j] = 0\n",
    "                        pos2val[(i,j)] = self.V[state]\n",
    "                        if self.V[state] > best_value:\n",
    "                            best_value = self.V[state]\n",
    "                            best_state = state\n",
    "                            next_move = (i,j)\n",
    "        \n",
    "        \n",
    "        #if verbose is true we need to print the value of current board after taking action\n",
    "        \n",
    "        if self.verbose:\n",
    "            print('Taking a greedy action !')\n",
    "            \n",
    "            for i in range(LENGTH):\n",
    "                print(\"******************\")\n",
    "                for j in range(LENGTH):\n",
    "                    if env.is_empty(i,j):\n",
    "                        print('%.2f'%pos2val[(i,j)],end = \" \")\n",
    "                    else:\n",
    "                        print(\" \",end=\" \")\n",
    "                        if env.board[i,j] == env.o:\n",
    "                            print(\"x |\",end=\" \")\n",
    "                        elif env.board[i,j] == env.x:\n",
    "                            print(\"o |\",end=\" \")\n",
    "                        else:\n",
    "                            print(\" |\",end=\"\")\n",
    "                    print()\n",
    "                print(\"******************\")\n",
    "                \n",
    "            \n",
    "            env.board[next_move[0],next_move[1]] = self.sym\n",
    "        \n",
    "    def update_state_history(self,s):\n",
    "        self.state_history.append(s)\n",
    "    \n",
    "    def update(self):\n",
    "        \n",
    "        \n",
    "    "
   ]
  }
 ],
 "metadata": {
  "kernelspec": {
   "display_name": "Python 3",
   "language": "python",
   "name": "python3"
  },
  "language_info": {
   "codemirror_mode": {
    "name": "ipython",
    "version": 3
   },
   "file_extension": ".py",
   "mimetype": "text/x-python",
   "name": "python",
   "nbconvert_exporter": "python",
   "pygments_lexer": "ipython3",
   "version": "3.8.2"
  }
 },
 "nbformat": 4,
 "nbformat_minor": 4
}
