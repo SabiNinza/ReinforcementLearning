{
 "cells": [
  {
   "cell_type": "code",
   "execution_count": 5,
   "metadata": {},
   "outputs": [],
   "source": [
    "import numpy as np\n",
    "import matplotlib.pyplot as plt\n",
    "import random"
   ]
  },
  {
   "cell_type": "code",
   "execution_count": 6,
   "metadata": {},
   "outputs": [],
   "source": [
    "NUM_TRIALS = 10000\n",
    "EPS = 0.1     #e is use for selection of random bandit to make our model more precise\n",
    "BANDIT_PROB = [0.2,0.5,0.9] #win rate of 3 bandit of casino"
   ]
  },
  {
   "cell_type": "code",
   "execution_count": 12,
   "metadata": {},
   "outputs": [
    {
     "data": {
      "text/plain": [
       "0.46106951362936843"
      ]
     },
     "execution_count": 12,
     "metadata": {},
     "output_type": "execute_result"
    }
   ],
   "source": [
    "np.random.random()"
   ]
  },
  {
   "cell_type": "code",
   "execution_count": 13,
   "metadata": {},
   "outputs": [],
   "source": [
    "class Bandit:\n",
    "    def __init__(self,p):\n",
    "        self.p = p\n",
    "        self.p_estimate = 0 #win rate after every trial\n",
    "        self.N = 0 #no of same collected so far\n",
    "        \n",
    "    def pull(self): #draw 1 with probability p\n",
    "        return np.random.random() < self.p\n",
    "    \n",
    "    def update(self,x):\n",
    "        self.N += 1\n",
    "        self.p_estimate = self.p_estimate+(x-self.p_estimate)/self.N"
   ]
  },
  {
   "cell_type": "code",
   "execution_count": null,
   "metadata": {},
   "outputs": [],
   "source": [
    "def experiment():\n",
    "    bandit = [Bandit(p) for p in BANDIT_PROB]\n",
    "    rewards = np.zeros(NUM_TRIALS)\n",
    "    num_times_explored = 0\n",
    "    num_times_exploited = 0\n",
    "    num_optimal = 0\n",
    "    optimal_j = np.argmax([b.p for b in bandit])\n",
    "    print(\"optimal j::\"+optimal_j)\n",
    "    \n",
    "    for  i in range(NUM_TRIALS):\n",
    "        #use epsilon to select next bandit\n",
    "        if np.random.random() < EPS:\n",
    "            num_times_explored+=1\n",
    "            j = np.random.randint(len(bandits))\n",
    "        else:\n",
    "            num_times_exploited += 1\n",
    "            j = np.argmax([b.p_estimate for b in bandit])\n",
    "        if j = optimal_j:\n",
    "            num_optimal+=1\n",
    "        \n",
    "        x = bandit[j].pull()\n",
    "        "
   ]
  },
  {
   "cell_type": "code",
   "execution_count": null,
   "metadata": {},
   "outputs": [],
   "source": []
  }
 ],
 "metadata": {
  "kernelspec": {
   "display_name": "Python 3.6.9 64-bit",
   "language": "python",
   "name": "python36964bit9939ac890d564112a7a5486a87db52b8"
  },
  "language_info": {
   "codemirror_mode": {
    "name": "ipython",
    "version": 3
   },
   "file_extension": ".py",
   "mimetype": "text/x-python",
   "name": "python",
   "nbconvert_exporter": "python",
   "pygments_lexer": "ipython3",
   "version": "3.6.9"
  }
 },
 "nbformat": 4,
 "nbformat_minor": 2
}
